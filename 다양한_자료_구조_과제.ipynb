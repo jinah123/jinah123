{
  "nbformat": 4,
  "nbformat_minor": 0,
  "metadata": {
    "colab": {
      "name": "다양한 자료 구조 과제",
      "provenance": [],
      "collapsed_sections": [],
      "authorship_tag": "ABX9TyP8YU2zS73hNGC5JQmyt+Cb",
      "include_colab_link": true
    },
    "kernelspec": {
      "name": "python3",
      "display_name": "Python 3"
    },
    "language_info": {
      "name": "python"
    }
  },
  "cells": [
    {
      "cell_type": "markdown",
      "metadata": {
        "id": "view-in-github",
        "colab_type": "text"
      },
      "source": [
        "<a href=\"https://colab.research.google.com/github/jinah123/jinah123/blob/main/%EB%8B%A4%EC%96%91%ED%95%9C_%EC%9E%90%EB%A3%8C_%EA%B5%AC%EC%A1%B0_%EA%B3%BC%EC%A0%9C.ipynb\" target=\"_parent\"><img src=\"https://colab.research.google.com/assets/colab-badge.svg\" alt=\"Open In Colab\"/></a>"
      ]
    },
    {
      "cell_type": "markdown",
      "metadata": {
        "id": "d9T-9fUh6q_6"
      },
      "source": [
        "문제1"
      ]
    },
    {
      "cell_type": "code",
      "metadata": {
        "colab": {
          "base_uri": "https://localhost:8080/"
        },
        "id": "aShHscT9FSKc",
        "outputId": "935a223a-698a-41ab-f426-dd2505aca232"
      },
      "source": [
        "x = int(input(\"계정의 수를 입력하시오:\"))\n",
        "y = list()\n",
        "for i in range(x):\n",
        "  z = input(\"아이디,승률,계급을 입력하시오:\")\n",
        "  spl = z.split()\n",
        "  y.append(spl)\n",
        "  if ((y[i][2] != 'Bronze') and (float(y[i][1])) >= 60.0) or (y[i][2] == 'Platinum'):\n",
        "    print ('[GOSU]',y[i][0])"
      ],
      "execution_count": 10,
      "outputs": [
        {
          "name": "stdout",
          "output_type": "stream",
          "text": [
            "계정의 수를 입력하시오:5\n",
            "아이디,승률,계급을 입력하시오:hec419 62.4 Platinum\n",
            "[GOSU] hec419\n",
            "아이디,승률,계급을 입력하시오:comkiwer 52.3 Platinum\n",
            "[GOSU] comkiwer\n",
            "아이디,승률,계급을 입력하시오:eva 60.7 Silver\n",
            "[GOSU] eva\n",
            "아이디,승률,계급을 입력하시오:ohjtgood 49.7 Gold\n",
            "아이디,승률,계급을 입력하시오:teriusu 65.1 Bronze\n"
          ]
        }
      ]
    },
    {
      "cell_type": "markdown",
      "metadata": {
        "id": "wSz3sRr9al40"
      },
      "source": [
        "문제 2"
      ]
    },
    {
      "cell_type": "code",
      "metadata": {
        "colab": {
          "base_uri": "https://localhost:8080/"
        },
        "id": "Q2aTLg3BanJm",
        "outputId": "f99385e8-1cfa-42f5-efd2-36039ff9f26a"
      },
      "source": [
        "list1 = [int(x) for x in input().split()] \n",
        "list2 = [int(x) for x in input().split()]\n",
        "list3 = [int(x) for x in input(). split()]\n",
        "\n",
        "set1 = set(list1)\n",
        "set2 = set(list2)\n",
        "set3 = set(list3)\n",
        "\n",
        "print('Intersection:', set1&set2&set3)\n",
        "print('Union:', set1|set2|set3)"
      ],
      "execution_count": null,
      "outputs": [
        {
          "output_type": "stream",
          "name": "stdout",
          "text": [
            "1 2 3 4 5 1 2 3 4 5\n",
            "1 5 2 5 5 4\n",
            "10 8 6 2 4\n",
            "Intersection: {2, 4}\n",
            "Union: {1, 2, 3, 4, 5, 6, 8, 10}\n"
          ]
        }
      ]
    },
    {
      "cell_type": "markdown",
      "metadata": {
        "id": "LnL8WY6q6oc1"
      },
      "source": [
        "문제 3"
      ]
    },
    {
      "cell_type": "code",
      "metadata": {
        "id": "9pNSCgQ26n3k",
        "colab": {
          "base_uri": "https://localhost:8080/"
        },
        "outputId": "fb009564-1ba6-4fb8-9379-9d5eda059f4d"
      },
      "source": [
        "x = int(input(\"정수 갯수를 입력하시오 :\"))\n",
        "country = dict()\n",
        "\n",
        "for i in range(x):\n",
        "  z = input('나라의 이름과 수도를 입력하시오:')\n",
        "  spl = z.split()\n",
        "  con = spl[0]\n",
        "  cap = spl[1]\n",
        "  country[con] = cap \n",
        "\n",
        "y = input('나라의 이름을 입력하시오:')\n",
        "if y in country:\n",
        "  print(country.get(y))\n",
        "else:\n",
        "  print('unknow country')"
      ],
      "execution_count": null,
      "outputs": [
        {
          "output_type": "stream",
          "name": "stdout",
          "text": [
            "정수 갯수를 입력하시오 :5\n",
            "나라의 이름과 수도를 입력하시오:Korea Seoul\n",
            "나라의 이름과 수도를 입력하시오:Russia Moscow\n",
            "나라의 이름과 수도를 입력하시오:USA  Washington_D.C\n",
            "나라의 이름과 수도를 입력하시오:Britain London\n",
            "나라의 이름과 수도를 입력하시오:Germany BErlin\n",
            "나라의 이름을 입력하시오:USA\n",
            "Washington_D.C\n"
          ]
        }
      ]
    },
    {
      "cell_type": "markdown",
      "metadata": {
        "id": "WVXc3apR6uIA"
      },
      "source": [
        "문제4"
      ]
    },
    {
      "cell_type": "code",
      "metadata": {
        "id": "DKt-IzdU6nEM",
        "colab": {
          "base_uri": "https://localhost:8080/"
        },
        "outputId": "2943d43a-5f9e-464e-93cf-11fd3a854f9d"
      },
      "source": [
        "from collections import Counter\n",
        "\n",
        "x = input(\"최우수상 받은 학생들의 이름을 입력하시오:\")\n",
        "y = x.split()\n",
        "z = Counter(y)\n",
        "\n",
        "num = int(input(\"정수를 입력하시오:\"))\n",
        "for name, time in z.items():\n",
        "  if time == num:\n",
        "    print(name)"
      ],
      "execution_count": null,
      "outputs": [
        {
          "output_type": "stream",
          "name": "stdout",
          "text": [
            "최우수상 받은 학생들의 이름을 입력하시오:Cindy Katherline Mark Mark Cindy Jack Cindy Maria Katherline\n",
            "정수를 입력하시오:2\n",
            "Katherline\n",
            "Mark\n"
          ]
        }
      ]
    },
    {
      "cell_type": "markdown",
      "metadata": {
        "id": "dfru03Fx6vz8"
      },
      "source": [
        "문제 5"
      ]
    },
    {
      "cell_type": "code",
      "metadata": {
        "id": "YonywQRs6w-Q",
        "colab": {
          "base_uri": "https://localhost:8080/"
        },
        "outputId": "01982422-e290-4ab6-f000-bc3a1ed87881"
      },
      "source": [
        "carName = input(\"주차장에 세워진 차종을 입력하시오:\")\n",
        "x = carName.split()\n",
        "y = set(x)\n",
        "z = list(y)\n",
        "\n",
        "for i in z:\n",
        "  print(i,end='')\n",
        "print()\n",
        "print(len(z))\n"
      ],
      "execution_count": null,
      "outputs": [
        {
          "output_type": "stream",
          "name": "stdout",
          "text": [
            "주차장에 세워진 차종을 입력하시오:Grandeur Avante Sonata Sonata Avante Genesis Sonata  \n",
            "GenesisSonataAvanteGrandeur\n",
            "4\n"
          ]
        }
      ]
    },
    {
      "cell_type": "markdown",
      "metadata": {
        "id": "f93i-6dK6vfn"
      },
      "source": [
        "문제6"
      ]
    },
    {
      "cell_type": "code",
      "metadata": {
        "id": "mzyzu3A36yJ4",
        "colab": {
          "base_uri": "https://localhost:8080/"
        },
        "outputId": "400c955a-505a-4d96-8c6b-3711ac367be0"
      },
      "source": [
        "x = int(input(\"정수를 입력하시오:\"))\n",
        "y = dict()\n",
        "\n",
        "for i in range (x):\n",
        "  z = input('키,자료를 입력하시오:')\n",
        "  spl = z.split()\n",
        "  i = spl[0]\n",
        "  j = spl[1]\n",
        "\n",
        "  y[i] = j\n",
        "\n",
        "add = input('문자열을 입력 하시오')\n",
        "print(y[add])"
      ],
      "execution_count": null,
      "outputs": [
        {
          "output_type": "stream",
          "name": "stdout",
          "text": [
            "정수를 입력하시오:6\n",
            "키,자료를 입력하시오:Adagio 60\n",
            "키,자료를 입력하시오:Andante 80\n",
            "키,자료를 입력하시오:Moderato 100\n",
            "키,자료를 입력하시오:Allegro 120\n",
            "키,자료를 입력하시오:Vivace 160\n",
            "키,자료를 입력하시오:Presto 180\n",
            "문자열을 입력 하시오Allegro\n",
            "120\n"
          ]
        }
      ]
    }
  ]
}