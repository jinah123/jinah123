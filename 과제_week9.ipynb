{
  "nbformat": 4,
  "nbformat_minor": 0,
  "metadata": {
    "colab": {
      "name": "과제 week9",
      "provenance": [],
      "collapsed_sections": [],
      "authorship_tag": "ABX9TyNr+oFTBNbe+k54CQcb9h9Q",
      "include_colab_link": true
    },
    "kernelspec": {
      "name": "python3",
      "display_name": "Python 3"
    },
    "language_info": {
      "name": "python"
    }
  },
  "cells": [
    {
      "cell_type": "markdown",
      "metadata": {
        "id": "view-in-github",
        "colab_type": "text"
      },
      "source": [
        "<a href=\"https://colab.research.google.com/github/jinah123/jinah123/blob/main/%EA%B3%BC%EC%A0%9C_week9.ipynb\" target=\"_parent\"><img src=\"https://colab.research.google.com/assets/colab-badge.svg\" alt=\"Open In Colab\"/></a>"
      ]
    },
    {
      "cell_type": "code",
      "metadata": {
        "colab": {
          "base_uri": "https://localhost:8080/"
        },
        "id": "N63V5VwQsUB2",
        "outputId": "56e37c53-a3c1-4830-bdc6-6fc72bd50b3c"
      },
      "source": [
        "class Account:\n",
        "  def __init__(self, account='441-0290-1203',balance=500000,interestRate=0.073):\n",
        "     self.__account = account\n",
        "     self.__balance = balance\n",
        "     self.__interestRate = interestRate\n",
        "  def setAccount(self, account):\n",
        "    self.__account = account\n",
        "  def getAccount(self):\n",
        "    return self.__account\n",
        "  def getBalance(self):\n",
        "    return self.__balance \n",
        "  def calculateInterest(self):\n",
        "    Interest = self.__interestRate * self.__balance\n",
        "    return Interest\n",
        "  def deposit(self,money):\n",
        "    self.__balance += money\n",
        "    return self.__balance\n",
        "  def withdraw(self,money):\n",
        "    self.__balance -= money\n",
        "    return self.__balance\n",
        "\n",
        "a = Account()\n",
        "\n",
        "print('계좌 정보:',a.getAccount(), '현재잔액:', a.getBalance())\n",
        "print('계좌정보:', a.getAccount(), '현재잔액:', a.deposit(20000))\n",
        "print('이자:', a.calculateInterest())"
      ],
      "execution_count": 1,
      "outputs": [
        {
          "output_type": "stream",
          "name": "stdout",
          "text": [
            "계좌 정보: 441-0290-1203 현재잔액: 500000\n",
            "계좌정보: 441-0290-1203 현재잔액: 520000\n",
            "이자: 37960.0\n"
          ]
        }
      ]
    },
    {
      "cell_type": "code",
      "source": [
        "class book :\n",
        "  def __init__(self, bookName = \"None\",bookPrice = 0 ,bookDiscountRate = 0  ):\n",
        "    self.__bookName = bookName\n",
        "    self.__bookPrice = bookPrice\n",
        "    self.__bookDiscountRate = bookDiscountRate\n",
        "\n",
        "  def setBookName (self, bookName) :\n",
        "    self.__bookName = bookName\n",
        "  def getBookName (self) :\n",
        "    return self.__bookName\n",
        "  \n",
        "  def setBookPrice (self, bookPrice) :\n",
        "    self.__bookPrice = bookPrice\n",
        "  def getBookPrice (self) :\n",
        "    return self.__bookPrice\n",
        "\n",
        "  def setBookDiscountRate (self, bookDiscountRate) :\n",
        "    self.__bookDiscountRate = bookDiscountRate\n",
        "  def getBookDiscountRate (self) :\n",
        "    return self.__bookDiscountRate\n",
        "    \n",
        "  def BookDiscountPrice(self):\n",
        "    return self.__bookPrice * ((100 - self.__bookDiscountRate) / 100)\n",
        "\n",
        "b1 = book()\n",
        "b2 = book()\n",
        "b3 = book()\n",
        "\n",
        "b1.setBookName(\"SQL Plus\")\n",
        "b2.setBookName(\"Java 2.0\")\n",
        "b3.setBookName(\"JSP Servlet\")\n",
        "\n",
        "b1.setBookPrice(50000)\n",
        "b2.setBookPrice(40000)\n",
        "b3.setBookPrice(60000)\n",
        "\n",
        "b1.setBookDiscountRate(5)\n",
        "b2.setBookDiscountRate(3)\n",
        "b3.setBookDiscountRate(6)\n",
        "\n",
        "\n",
        "for myBook in range(3):\n",
        "    if myBook == 0:\n",
        "        print(f\"{b1.getBookName()} {b1.getBookPrice()}원 {b1.getBookDiscountRate()}%\")\n",
        "    elif myBook == 1:\n",
        "        print(f\"{b2.getBookName()} {b2.getBookPrice()}원 {b2.getBookDiscountRate()}%\")\n",
        "    else:\n",
        "        print(f\"{b3.getBookName()} {b3.getBookPrice()}원 {b3.getBookDiscountRate()}%\")\n",
        "\n",
        "\n",
        "BookPriceSum = b1.getBookPrice() + b2.getBookPrice() + b3.getBookPrice()\n",
        "DiscountPriceSum = b1.BookDiscountPrice() + b2.BookDiscountPrice() + b3.BookDiscountPrice()\n",
        "\n",
        "print()\n",
        "print(f\"책 가격의 합: {BookPriceSum}원\")\n",
        "print(f\"할인 된 책 가격의 합: {DiscountPriceSum}원\")"
      ],
      "metadata": {
        "colab": {
          "base_uri": "https://localhost:8080/"
        },
        "id": "yqjpRliHreKS",
        "outputId": "9527c61c-99f4-404e-cfd7-bc129c41d54e"
      },
      "execution_count": 21,
      "outputs": [
        {
          "output_type": "stream",
          "name": "stdout",
          "text": [
            "SQL Plus 50000원 5%\n",
            "Java 2.0 40000원 3%\n",
            "JSP Servlet 60000원 6%\n",
            "\n",
            "책 가격의 합: 150000원\n",
            "할인 된 책 가격의 합: 142700.0원\n"
          ]
        }
      ]
    }
  ]
}