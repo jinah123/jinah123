{
  "nbformat": 4,
  "nbformat_minor": 0,
  "metadata": {
    "colab": {
      "name": "week 3과제 ",
      "provenance": [],
      "collapsed_sections": [],
      "authorship_tag": "ABX9TyOd1dvldDKEbtgfWwXrX6Fn",
      "include_colab_link": true
    },
    "kernelspec": {
      "name": "python3",
      "display_name": "Python 3"
    },
    "language_info": {
      "name": "python"
    }
  },
  "cells": [
    {
      "cell_type": "markdown",
      "metadata": {
        "id": "view-in-github",
        "colab_type": "text"
      },
      "source": [
        "<a href=\"https://colab.research.google.com/github/jinah123/jinah123/blob/main/week_3%EA%B3%BC%EC%A0%9C.ipynb\" target=\"_parent\"><img src=\"https://colab.research.google.com/assets/colab-badge.svg\" alt=\"Open In Colab\"/></a>"
      ]
    },
    {
      "cell_type": "markdown",
      "metadata": {
        "id": "5-yn6CytwJp6"
      },
      "source": [
        "문제 1"
      ]
    },
    {
      "cell_type": "code",
      "metadata": {
        "id": "J3cQsBjOy-f6",
        "colab": {
          "base_uri": "https://localhost:8080/"
        },
        "outputId": "762d8abd-8ec4-4a23-ea02-b1f885e9b99e"
      },
      "source": [
        "a = 90\n",
        "b = 80\n",
        "c = 100\n",
        "sum = a+b+c\n",
        "avg = (a+b+c)/3 \n",
        "a= print(\"kor\", 90)\n",
        "b=print(\"mat\", 80)\n",
        "c= print(\"eng\", 100)\n",
        "print(\"sum\", sum)\n",
        "print(\"avg\", avg)"
      ],
      "execution_count": null,
      "outputs": [
        {
          "output_type": "stream",
          "name": "stdout",
          "text": [
            "kor 90\n",
            "mat 80\n",
            "eng 100\n",
            "sum 270\n",
            "avg 90.0\n"
          ]
        }
      ]
    },
    {
      "cell_type": "code",
      "metadata": {
        "colab": {
          "base_uri": "https://localhost:8080/"
        },
        "id": "RwsxWs91thRc",
        "outputId": "57b23e03-8d27-4cde-db20-874117ec684f"
      },
      "source": [
        "x = int(input(\"kor:\"))\n",
        "y = int(input(\"mat:\"))\n",
        "z = int(input(\"eng:\"))\n",
        "sum = (x+y+z)\n",
        "print(\"sum\", sum )\n",
        "avg = ((x+y+z)/3)\n",
        "print(\"avg\",avg)"
      ],
      "execution_count": null,
      "outputs": [
        {
          "output_type": "stream",
          "name": "stdout",
          "text": [
            "kor:90\n",
            "mat:80\n",
            "eng:100\n",
            "sum 270\n",
            "avg 90.0\n"
          ]
        }
      ]
    },
    {
      "cell_type": "markdown",
      "metadata": {
        "id": "Wf39kguETrBW"
      },
      "source": [
        "문제 2"
      ]
    },
    {
      "cell_type": "code",
      "metadata": {
        "colab": {
          "base_uri": "https://localhost:8080/"
        },
        "id": "cqEUM3QsTqZF",
        "outputId": "07ce0c23-f798-4410-975a-f6c6fc372bbf"
      },
      "source": [
        "letter=\"T\"\n",
        "print(\"T\"*10)\n",
        "print(\"T\"*10)\n",
        "print('   ',\"T\"*2,'    ')\n",
        "print('   ',\"T\"*2,'    ')\n",
        "print('   ',\"T\"*2,'    ')"
      ],
      "execution_count": null,
      "outputs": [
        {
          "output_type": "stream",
          "name": "stdout",
          "text": [
            "TTTTTTTTTT\n",
            "TTTTTTTTTT\n",
            "    TT     \n",
            "    TT     \n",
            "    TT     \n"
          ]
        }
      ]
    },
    {
      "cell_type": "markdown",
      "metadata": {
        "id": "GTN_BOEjSfGn"
      },
      "source": [
        "문제 3"
      ]
    },
    {
      "cell_type": "code",
      "metadata": {
        "colab": {
          "base_uri": "https://localhost:8080/"
        },
        "id": "PBeaoQV3ShAU",
        "outputId": "c88b525e-fe6a-4faa-c0de-404a74cbd2a6"
      },
      "source": [
        "a=10\n",
        "b=20\n",
        "c=30\n",
        "\n",
        "print (a,\"+\",b,\"=\",c)"
      ],
      "execution_count": null,
      "outputs": [
        {
          "output_type": "stream",
          "name": "stdout",
          "text": [
            "10 + 20 = 30\n"
          ]
        }
      ]
    },
    {
      "cell_type": "markdown",
      "metadata": {
        "id": "LcdXf94xRYTD"
      },
      "source": [
        "문제 4"
      ]
    },
    {
      "cell_type": "code",
      "metadata": {
        "colab": {
          "base_uri": "https://localhost:8080/"
        },
        "id": "3OMVinSxRXxV",
        "outputId": "51020675-7bba-4b2c-8ea9-2ef5af03c6ea"
      },
      "source": [
        "first=20\n",
        "second=50\n",
        "third=100\n",
        "\n",
        "sum=first+second+third\n",
        "print(\"sum =\",sum)\n",
        "avg=(first+second+third)//3\n",
        "print(\"avg =\",avg)"
      ],
      "execution_count": null,
      "outputs": [
        {
          "output_type": "stream",
          "name": "stdout",
          "text": [
            "sum = 170\n",
            "avg = 56\n"
          ]
        }
      ]
    },
    {
      "cell_type": "code",
      "metadata": {
        "colab": {
          "base_uri": "https://localhost:8080/"
        },
        "id": "itAbbVyOx_zX",
        "outputId": "7b417f8c-c447-492a-d2f0-4d44036fd19a"
      },
      "source": [
        "x = int(input(\"first integer\"))\n",
        "y = int(input(\"second integer\"))\n",
        "z = int(input(\"third integer\"))\n",
        "\n",
        "sum = x+y+z\n",
        "print(\"sum\",sum)\n",
        "avg = (x+y+z)//3\n",
        "print(\"avg\",avg)"
      ],
      "execution_count": null,
      "outputs": [
        {
          "output_type": "stream",
          "name": "stdout",
          "text": [
            "first integer20\n",
            "second integer50\n",
            "third integer100\n",
            "sum 170\n",
            "avg 56\n"
          ]
        }
      ]
    },
    {
      "cell_type": "markdown",
      "metadata": {
        "id": "36fbX5J_WdH1"
      },
      "source": [
        "문제 5"
      ]
    },
    {
      "cell_type": "code",
      "metadata": {
        "id": "ZCh7GfPGWfK_",
        "colab": {
          "base_uri": "https://localhost:8080/"
        },
        "outputId": "a112eb14-0a61-4bdb-d29e-8c79227b9cab"
      },
      "source": [
        "yard=91.44\n",
        "n=10.1*yard\n",
        "\n",
        "print(\"10.1yard =\",round(n,1),\"cm\")\n",
        "\n",
        "\n",
        "\n"
      ],
      "execution_count": null,
      "outputs": [
        {
          "output_type": "stream",
          "name": "stdout",
          "text": [
            "10.1yard = 923.5 cm\n"
          ]
        }
      ]
    },
    {
      "cell_type": "markdown",
      "metadata": {
        "id": "oDfk5bSuwNd7"
      },
      "source": [
        "operator "
      ]
    },
    {
      "cell_type": "markdown",
      "metadata": {
        "id": "Ibj37InQ1hyn"
      },
      "source": [
        "문제 1"
      ]
    },
    {
      "cell_type": "code",
      "metadata": {
        "colab": {
          "base_uri": "https://localhost:8080/"
        },
        "id": "0dPfaLcq1kbV",
        "outputId": "1debf348-12b1-4648-8b38-04c0a3d31b23"
      },
      "source": [
        "a=4\n",
        "b=5\n",
        "if a>b:\n",
        "  print(0)\n",
        "else:\n",
        "  print(0)\n",
        "\n",
        "if a<b:\n",
        "  print(1)\n",
        "else:\n",
        "  print(0)\n",
        "\n",
        "if a>=b:\n",
        "  print(1)\n",
        "else:\n",
        "  print(0)\n",
        "  \n",
        "if a<=b:\n",
        "  print(1)\n",
        "else:\n",
        "  print(0)"
      ],
      "execution_count": null,
      "outputs": [
        {
          "output_type": "stream",
          "name": "stdout",
          "text": [
            "0\n",
            "1\n",
            "0\n",
            "1\n"
          ]
        }
      ]
    },
    {
      "cell_type": "code",
      "metadata": {
        "id": "A8aMSbNY34CF",
        "colab": {
          "base_uri": "https://localhost:8080/"
        },
        "outputId": "47393a42-ccfe-4e2e-82b1-6d65dc272252"
      },
      "source": [
        "5\n",
        "a = int(input(\"first integer:\"))\n",
        "b = int(input(\"second integer\"))\n",
        "\n",
        "if a>b:\n",
        "  print(1)\n",
        "else:\n",
        "  print(0)\n",
        "\n",
        "if a<b:\n",
        "  print(1)\n",
        "else:\n",
        "  print(0)\n",
        "\n",
        "if a>=b:\n",
        "  print(1)\n",
        "else:\n",
        "  print(0)\n",
        "  \n",
        "if a<=b:\n",
        "  print(1)\n",
        "else:\n",
        "  print(0)"
      ],
      "execution_count": null,
      "outputs": [
        {
          "output_type": "stream",
          "name": "stdout",
          "text": [
            "first integer:4\n",
            "second integer5\n",
            "0\n",
            "1\n",
            "0\n",
            "1\n"
          ]
        }
      ]
    },
    {
      "cell_type": "markdown",
      "metadata": {
        "id": "EM1VpS_T28Pf"
      },
      "source": [
        "문제 2 (1)"
      ]
    },
    {
      "cell_type": "code",
      "metadata": {
        "id": "uu-bgWOU27pl",
        "colab": {
          "base_uri": "https://localhost:8080/"
        },
        "outputId": "e5f17983-3b59-40ea-a309-0b0bea43e607"
      },
      "source": [
        "first=10\n",
        "second=9\n",
        "third=9\n",
        "if first>second:\n",
        "  print(1)\n",
        "else:\n",
        "  if first>third:\n",
        "    print(1)\n",
        "  else:\n",
        "    print(0)\n",
        "\n",
        "\n",
        "if first==second==third:\n",
        "  print(1)\n",
        "else:\n",
        "  print(0)"
      ],
      "execution_count": null,
      "outputs": [
        {
          "output_type": "stream",
          "name": "stdout",
          "text": [
            "1\n",
            "0\n"
          ]
        }
      ]
    },
    {
      "cell_type": "markdown",
      "metadata": {
        "id": "6DtE5yzyFOjJ"
      },
      "source": [
        "문제 2 (2)"
      ]
    },
    {
      "cell_type": "code",
      "metadata": {
        "colab": {
          "base_uri": "https://localhost:8080/"
        },
        "id": "LRO7_E8vFHBM",
        "outputId": "6ea39393-1e5d-4dd4-b809-9a7551b553f9"
      },
      "source": [
        "first=10\n",
        "second=9\n",
        "third=9\n",
        "\n",
        "if first>third==second:\n",
        "  print(1)\n",
        "else:\n",
        "  print(0)\n",
        "\n",
        "\n",
        "if first==second:\n",
        "  print(1)\n",
        "else:\n",
        "  if first==third:\n",
        "    print(1)\n",
        "  else:\n",
        "    print(0)\n"
      ],
      "execution_count": null,
      "outputs": [
        {
          "output_type": "stream",
          "name": "stdout",
          "text": [
            "1\n",
            "0\n"
          ]
        }
      ]
    },
    {
      "cell_type": "code",
      "metadata": {
        "id": "B9B_u8tf5EjV",
        "colab": {
          "base_uri": "https://localhost:8080/"
        },
        "outputId": "2bebf77b-157f-456a-c014-6c0248f06af2"
      },
      "source": [
        "a = int(input(\"first integer:\"))\n",
        "b = int(input(\"second integer:\"))\n",
        "c =int(input(\"third integer:\"))\n",
        "if a>b:\n",
        "  print(1)\n",
        "else:\n",
        "  if a>c:\n",
        "    print(1)\n",
        "  else:\n",
        "    print(0)\n",
        "\n",
        "\n",
        "if a==b==c:\n",
        "  print(1)\n",
        "else:\n",
        "  print(0)"
      ],
      "execution_count": null,
      "outputs": [
        {
          "output_type": "stream",
          "name": "stdout",
          "text": [
            "first integer:10\n",
            "second integer:9\n",
            "third integer:9\n",
            "1\n",
            "0\n"
          ]
        }
      ]
    },
    {
      "cell_type": "markdown",
      "metadata": {
        "id": "P74kf4VXJBWm"
      },
      "source": [
        "문제 3"
      ]
    },
    {
      "cell_type": "code",
      "metadata": {
        "colab": {
          "base_uri": "https://localhost:8080/"
        },
        "id": "BNHwb3OaJDZD",
        "outputId": "f2dc25c0-9520-4cf2-fd94-e71e26a596ac"
      },
      "source": [
        "a=10\n",
        "b=20\n",
        "c=10+1\n",
        "d=20-1\n",
        "\n",
        "print(c)\n",
        "print(d)\n",
        "print(c*d)"
      ],
      "execution_count": null,
      "outputs": [
        {
          "output_type": "stream",
          "name": "stdout",
          "text": [
            "11\n",
            "19\n",
            "209\n"
          ]
        }
      ]
    },
    {
      "cell_type": "code",
      "metadata": {
        "colab": {
          "base_uri": "https://localhost:8080/"
        },
        "id": "ExkeWxZS8-9r",
        "outputId": "45b59b69-6e73-45d4-b537-617ece18d871"
      },
      "source": [
        "a = int(input(\"first integer\"))\n",
        "b = int(input(\"second integer\"))\n",
        "c = a+1\n",
        "d = b-1\n",
        "print(c)\n",
        "print(d)\n",
        "print(c*d)"
      ],
      "execution_count": null,
      "outputs": [
        {
          "output_type": "stream",
          "name": "stdout",
          "text": [
            "first integer10\n",
            "second integer20\n",
            "11\n",
            "19\n",
            "209\n"
          ]
        }
      ]
    },
    {
      "cell_type": "markdown",
      "metadata": {
        "id": "6vdO4dXWwRZ3"
      },
      "source": [
        "문제 4"
      ]
    },
    {
      "cell_type": "code",
      "metadata": {
        "colab": {
          "base_uri": "https://localhost:8080/"
        },
        "id": "qJT0oYfUwZ1-",
        "outputId": "f494de2c-b1be-4585-b096-c29e77051779"
      },
      "source": [
        "minsu_height=150\n",
        "gayeong_height=145 \n",
        "\n",
        "minsu_weight=35 \n",
        "gayeong_weight=35\n",
        "\n",
        "if minsu_height > gayeong_height and minsu_weight > gayeong_weight:\n",
        "  print(1)\n",
        "else:\n",
        "  print(0)"
      ],
      "execution_count": null,
      "outputs": [
        {
          "output_type": "stream",
          "name": "stdout",
          "text": [
            "0\n"
          ]
        }
      ]
    },
    {
      "cell_type": "code",
      "metadata": {
        "colab": {
          "base_uri": "https://localhost:8080/"
        },
        "id": "QSEHg9Ih92ie",
        "outputId": "129f8d0f-9e7d-4c26-e2a4-2ab3b041c408"
      },
      "source": [
        "a = int(input(\"minsu height:\"))\n",
        "b = int(input(\"minsu weight:\"))\n",
        "c = int(input(\"gayeong height:\"))\n",
        "d = int(input(\"gayeong weight:\"))\n",
        "\n",
        "if a>c and b>d:\n",
        "  print(1)\n",
        "else:\n",
        "  print(0)"
      ],
      "execution_count": null,
      "outputs": [
        {
          "output_type": "stream",
          "name": "stdout",
          "text": [
            "minsu height:150\n",
            "minsu weight:35\n",
            "gayeong height:145\n",
            "gayeong weight:35\n",
            "0\n"
          ]
        }
      ]
    }
  ]
}