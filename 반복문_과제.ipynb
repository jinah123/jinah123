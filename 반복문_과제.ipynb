{
  "nbformat": 4,
  "nbformat_minor": 0,
  "metadata": {
    "colab": {
      "name": "반복문 과제",
      "provenance": [],
      "collapsed_sections": [],
      "authorship_tag": "ABX9TyOAeiuNFjQNcGbjiC2nh5WN",
      "include_colab_link": true
    },
    "kernelspec": {
      "display_name": "Python 3",
      "name": "python3"
    },
    "language_info": {
      "name": "python"
    }
  },
  "cells": [
    {
      "cell_type": "markdown",
      "metadata": {
        "id": "view-in-github",
        "colab_type": "text"
      },
      "source": [
        "<a href=\"https://colab.research.google.com/github/jinah123/jinah123/blob/main/%EB%B0%98%EB%B3%B5%EB%AC%B8_%EA%B3%BC%EC%A0%9C.ipynb\" target=\"_parent\"><img src=\"https://colab.research.google.com/assets/colab-badge.svg\" alt=\"Open In Colab\"/></a>"
      ]
    },
    {
      "cell_type": "markdown",
      "metadata": {
        "id": "rAr4eNnQiM_r"
      },
      "source": [
        "반복문 과제 1"
      ]
    },
    {
      "cell_type": "markdown",
      "metadata": {
        "id": "lE7KDZBTiQKa"
      },
      "source": [
        "문제 1"
      ]
    },
    {
      "cell_type": "code",
      "metadata": {
        "colab": {
          "base_uri": "https://localhost:8080/"
        },
        "id": "cV7qL4lSiBR7",
        "outputId": "fbb2ca5e-e20c-4e4d-bfbc-2e2381ae916c"
      },
      "source": [
        "sum = 0\n",
        "i = 1\n",
        "\n",
        "x = int(input(\"100 이하의 양의 정수를 입력하시오:\"))\n",
        "if x > 100 or x == 0:\n",
        "  print('error')\n",
        "else: \n",
        "  while i <= x:\n",
        "    sum = sum + i\n",
        "    i = i + 1\n",
        "  print(sum)\n",
        "\n"
      ],
      "execution_count": null,
      "outputs": [
        {
          "output_type": "stream",
          "name": "stdout",
          "text": [
            "100 이하의 양의 정수를 입력하시오:10\n",
            "55\n"
          ]
        }
      ]
    },
    {
      "cell_type": "markdown",
      "metadata": {
        "id": "nQlV9RLn1BQ-"
      },
      "source": [
        "문제 2"
      ]
    },
    {
      "cell_type": "code",
      "metadata": {
        "colab": {
          "base_uri": "https://localhost:8080/"
        },
        "id": "k5A582mB_4h-",
        "outputId": "5195aec9-f04d-4c6b-ef8f-aa388d6a5008"
      },
      "source": [
        "sum = 0\n",
        "\n",
        "x= int(input(\"100이하의 정수를 입력하시오:\"))\n",
        "if x <= 100:\n",
        "  for i in range(x,101):\n",
        "    sum += i\n",
        "  print(sum)\n",
        "else:\n",
        "  print('error')"
      ],
      "execution_count": null,
      "outputs": [
        {
          "output_type": "stream",
          "name": "stdout",
          "text": [
            "100이하의 정수를 입력하시오:95\n",
            "585\n"
          ]
        }
      ]
    },
    {
      "cell_type": "markdown",
      "metadata": {
        "id": "NBFxwIiM1DsC"
      },
      "source": [
        "문제 3"
      ]
    },
    {
      "cell_type": "code",
      "metadata": {
        "colab": {
          "base_uri": "https://localhost:8080/"
        },
        "id": "3HmryTDK1EQZ",
        "outputId": "2141e28d-6d88-4288-d986-fbf35edea122"
      },
      "source": [
        "x = int(input(\"자연수를 입력하시오:\"))\n",
        "\n",
        "for i in range(1,11):\n",
        " y = x * i\n",
        " print(y, end=\" \")"
      ],
      "execution_count": null,
      "outputs": [
        {
          "output_type": "stream",
          "name": "stdout",
          "text": [
            "자연수를 입력하시오:5\n",
            "5 10 15 20 25 30 35 40 45 50 "
          ]
        }
      ]
    },
    {
      "cell_type": "markdown",
      "metadata": {
        "id": "ht7U9jZ41EvD"
      },
      "source": [
        "문제 4"
      ]
    },
    {
      "cell_type": "code",
      "metadata": {
        "colab": {
          "base_uri": "https://localhost:8080/"
        },
        "id": "3i509icH1GAv",
        "outputId": "be5d4e2a-0b70-4ef2-9842-198a16c7a841"
      },
      "source": [
        "sum = 0\n",
        "i = 1\n",
        "\n",
        "x = int(input(\"100 이하의 양의 정수를 입력하시오:\"))\n",
        "if x > 100 or x == 0:\n",
        "  print('error')\n",
        "else: \n",
        "  while i <= x:\n",
        "    sum = sum + i\n",
        "    i = i + 1\n",
        "  print(sum)"
      ],
      "execution_count": null,
      "outputs": [
        {
          "output_type": "stream",
          "name": "stdout",
          "text": [
            "100 이하의 양의 정수를 입력하시오:10\n",
            "55\n"
          ]
        }
      ]
    },
    {
      "cell_type": "markdown",
      "metadata": {
        "id": "fJrE_x-71GQC"
      },
      "source": [
        "문제 5"
      ]
    },
    {
      "cell_type": "code",
      "metadata": {
        "colab": {
          "base_uri": "https://localhost:8080/"
        },
        "id": "eA6mtJFg1JKO",
        "outputId": "0adc6c52-fe6e-4a82-d58b-5ecb2c935f4e"
      },
      "source": [
        "count = 0\n",
        "while True:\n",
        "  N = int(input(\"정수를 입력하시오:\"))\n",
        "  if N % 3 != 0 and N % 5 != 0:\n",
        "    count = count + 1 \n",
        "  elif N == 0:\n",
        "    print(count)\n",
        "    break"
      ],
      "execution_count": null,
      "outputs": [
        {
          "output_type": "stream",
          "name": "stdout",
          "text": [
            "정수를 입력하시오:1\n",
            "정수를 입력하시오:2\n",
            "정수를 입력하시오:3\n",
            "정수를 입력하시오:4\n",
            "정수를 입력하시오:5\n",
            "정수를 입력하시오:6\n",
            "정수를 입력하시오:7\n",
            "정수를 입력하시오:8\n",
            "정수를 입력하시오:9\n",
            "정수를 입력하시오:10\n",
            "정수를 입력하시오:0\n",
            "5\n"
          ]
        }
      ]
    },
    {
      "cell_type": "markdown",
      "metadata": {
        "id": "wvgxFG1z1J2B"
      },
      "source": [
        "문제 6"
      ]
    },
    {
      "cell_type": "code",
      "metadata": {
        "colab": {
          "base_uri": "https://localhost:8080/"
        },
        "id": "wEwvG-qo1K2L",
        "outputId": "8469894b-fb40-432b-8f9b-2f2a0dff8825"
      },
      "source": [
        "while True:\n",
        "  base = int(input(\"Base=\"))\n",
        "  height = int(input(\"Height=\"))\n",
        "  Triangle_width = 1/2*height*base\n",
        "  print(\"Triangle_width=\",round(Triangle_width,1))\n",
        "  word = input(\"continue?\")\n",
        "  if word == 'Y' or word == 'y':\n",
        "    continue\n",
        "  else: \n",
        "    break"
      ],
      "execution_count": null,
      "outputs": [
        {
          "name": "stdout",
          "output_type": "stream",
          "text": [
            "Base=11\n",
            "Height=5\n",
            "Triangle_width= 27.5\n",
            "continue?Y\n",
            "Base=10\n",
            "Height=10\n",
            "Triangle_width= 50.0\n",
            "continue?N\n"
          ]
        }
      ]
    },
    {
      "cell_type": "markdown",
      "metadata": {
        "id": "3afYU-oW1LQ1"
      },
      "source": [
        "문제 7"
      ]
    },
    {
      "cell_type": "code",
      "metadata": {
        "colab": {
          "base_uri": "https://localhost:8080/"
        },
        "id": "JSWylk5G1OFt",
        "outputId": "3c0db05e-3adb-48d4-c0c7-2333f4f19043"
      },
      "source": [
        "for y in range(2,7):\n",
        "  for x in range(5):\n",
        "    print(y+x, end=\" \")\n",
        "  print(\"\")"
      ],
      "execution_count": null,
      "outputs": [
        {
          "output_type": "stream",
          "name": "stdout",
          "text": [
            "2 3 4 5 6 \n",
            "3 4 5 6 7 \n",
            "4 5 6 7 8 \n",
            "5 6 7 8 9 \n",
            "6 7 8 9 10 \n"
          ]
        }
      ]
    },
    {
      "cell_type": "markdown",
      "metadata": {
        "id": "fX0KVqr8oza3"
      },
      "source": [
        "반복문 과제 2"
      ]
    },
    {
      "cell_type": "markdown",
      "metadata": {
        "id": "vL7-_kdZo3CS"
      },
      "source": [
        "문제 1"
      ]
    },
    {
      "cell_type": "code",
      "metadata": {
        "colab": {
          "base_uri": "https://localhost:8080/"
        },
        "id": "n5gFWcBZovo3",
        "outputId": "12b43feb-3b13-43da-f9e4-ed3ed2616282"
      },
      "source": [
        "sum = 0 \n",
        "count = 0 \n",
        "i = 1\n",
        "N = int(input(\"자연수를 입력하시오:\"))\n",
        "\n",
        "if N == 0:\n",
        "  print('error')\n",
        "else:\n",
        "  while True:\n",
        "    sum = sum + i\n",
        "    count = count + 1\n",
        "    i = i + 2\n",
        "    if sum >=N:\n",
        "      print(count,sum)\n",
        "      break"
      ],
      "execution_count": null,
      "outputs": [
        {
          "output_type": "stream",
          "name": "stdout",
          "text": [
            "자연수를 입력하시오:100\n",
            "10 100\n"
          ]
        }
      ]
    },
    {
      "cell_type": "markdown",
      "metadata": {
        "id": "6pWBTCzgo5f5"
      },
      "source": [
        "문제 2"
      ]
    },
    {
      "cell_type": "code",
      "metadata": {
        "colab": {
          "base_uri": "https://localhost:8080/"
        },
        "id": "K7lEfK-urLPH",
        "outputId": "22372945-e03c-443b-f82d-dd3d676262b8"
      },
      "source": [
        "2<x<9 or 2<y<9\n",
        "x = int(input('2부터 9 사이의 수를 입력 하시오 :'))\n",
        "y = int(input('2부터 9 사이의 수를 입력 하시오:'))\n",
        "if x>y:\n",
        "  for i in range (1,10):\n",
        "    for j in range (x-y+1):\n",
        "      print(x-j,\"*\",i,\"=\",(x-j)*i, end=' ')\n",
        "    print('')\n",
        "elif x<y:\n",
        " for i in range (1,10):\n",
        "  for j in range (y-x+1):\n",
        "    print(x+j,\"*\",i,\"=\",(x+j)*i,end=' ')\n",
        "  print('')"
      ],
      "execution_count": null,
      "outputs": [
        {
          "output_type": "stream",
          "name": "stdout",
          "text": [
            "2부터 9 사이의 수를 입력 하시오 :5\n",
            "2부터 9 사이의 수를 입력 하시오:3\n",
            "5 * 1 = 5 4 * 1 = 4 3 * 1 = 3 \n",
            "5 * 2 = 10 4 * 2 = 8 3 * 2 = 6 \n",
            "5 * 3 = 15 4 * 3 = 12 3 * 3 = 9 \n",
            "5 * 4 = 20 4 * 4 = 16 3 * 4 = 12 \n",
            "5 * 5 = 25 4 * 5 = 20 3 * 5 = 15 \n",
            "5 * 6 = 30 4 * 6 = 24 3 * 6 = 18 \n",
            "5 * 7 = 35 4 * 7 = 28 3 * 7 = 21 \n",
            "5 * 8 = 40 4 * 8 = 32 3 * 8 = 24 \n",
            "5 * 9 = 45 4 * 9 = 36 3 * 9 = 27 \n"
          ]
        }
      ]
    },
    {
      "cell_type": "markdown",
      "metadata": {
        "id": "cNJDY3XLo5dA"
      },
      "source": [
        "문제 3"
      ]
    },
    {
      "cell_type": "code",
      "metadata": {
        "colab": {
          "base_uri": "https://localhost:8080/"
        },
        "id": "tN_OvsM7VB5f",
        "outputId": "d80d37ec-b001-4b59-e78e-c7dce4e5b36a"
      },
      "source": [
        "x = int(input(\"행을 입력 하시오:\"))\n",
        "y = int(input(\"열을 입력 하시오:\"))\n",
        "\n",
        "for i in range (1,x+1):\n",
        "  for j in range (0,y):\n",
        "    print(i + j*i, end =' ')\n",
        "  print()"
      ],
      "execution_count": null,
      "outputs": [
        {
          "output_type": "stream",
          "name": "stdout",
          "text": [
            "행을 입력 하시오:3\n",
            "열을 입력 하시오:4\n",
            "1 2 3 4 \n",
            "2 4 6 8 \n",
            "3 6 9 12 \n"
          ]
        }
      ]
    },
    {
      "cell_type": "markdown",
      "metadata": {
        "id": "I53mGPQ5o5Zr"
      },
      "source": [
        "문제 4"
      ]
    },
    {
      "cell_type": "code",
      "metadata": {
        "colab": {
          "base_uri": "https://localhost:8080/"
        },
        "id": "Gk5JVtRZnVKB",
        "outputId": "28c78be7-a3bc-432c-fe6f-7ada4ac5344a"
      },
      "source": [
        "line = int(input(\"줄 수를 입력:\"))\n",
        "for y in range (line):\n",
        "  for x in range (y+1):\n",
        "    print(\"*\",end=\"\")\n",
        "  print()\n"
      ],
      "execution_count": null,
      "outputs": [
        {
          "output_type": "stream",
          "name": "stdout",
          "text": [
            "줄 수를 입력:5\n",
            "*\n",
            "**\n",
            "***\n",
            "****\n",
            "*****\n"
          ]
        }
      ]
    },
    {
      "cell_type": "markdown",
      "metadata": {
        "id": "064Uee_no5TK"
      },
      "source": [
        "문제 5"
      ]
    },
    {
      "cell_type": "code",
      "metadata": {
        "colab": {
          "base_uri": "https://localhost:8080/"
        },
        "id": "FF8kw1HgZAUH",
        "outputId": "bbe651db-48eb-474c-8f58-764d778b469a"
      },
      "source": [
        "x = int(input(\"자연수를 입력 하시오:\"))\n",
        "\n",
        "for i in range (x):\n",
        "  for j in range (i):\n",
        "    print(\"\",end=' ')\n",
        "  for j in range ((x-i)*2-1):\n",
        "    print(\"*\", end ='')\n",
        "  print()"
      ],
      "execution_count": null,
      "outputs": [
        {
          "output_type": "stream",
          "name": "stdout",
          "text": [
            "자연수를 입력 하시오:3\n",
            "*****\n",
            " ***\n",
            "  *\n"
          ]
        }
      ]
    },
    {
      "cell_type": "markdown",
      "metadata": {
        "id": "hXLdxq3ao4-k"
      },
      "source": [
        "문제 6"
      ]
    },
    {
      "cell_type": "code",
      "metadata": {
        "id": "JRDRv7_wwpof",
        "colab": {
          "base_uri": "https://localhost:8080/"
        },
        "outputId": "c3a4d2dd-6a15-433a-8ab5-b0e2f37f87a1"
      },
      "source": [
        "x = int(input(\"자연수를 입력하시오:\"))\n",
        "\n",
        "if x<1 or x>100:\n",
        "  print(\"eror\")\n",
        "else:\n",
        "  for multiple in range(1,11):\n",
        "    answer = x * multiple\n",
        "    print(answer, end=' ')\n"
      ],
      "execution_count": null,
      "outputs": [
        {
          "output_type": "stream",
          "name": "stdout",
          "text": [
            "자연수를 입력하시오:7\n",
            "7 14 21 28 35 42 49 56 63 70 "
          ]
        }
      ]
    },
    {
      "cell_type": "markdown",
      "metadata": {
        "id": "bWL6486co5QB"
      },
      "source": [
        "문제 7"
      ]
    },
    {
      "cell_type": "code",
      "metadata": {
        "id": "LM8XpARDo_LP",
        "colab": {
          "base_uri": "https://localhost:8080/"
        },
        "outputId": "ce24dd9c-f41e-4362-cc85-f95897978a86"
      },
      "source": [
        "x = int(input(\"자연수 를입력하시오:\"))\n",
        "\n",
        "for y in range (1,x+1):\n",
        "  for z in range(x-y):\n",
        "    print(' ', end='')\n",
        "  for z in range (y):\n",
        "    print(z+1,end='')  \n",
        "  print('')"
      ],
      "execution_count": null,
      "outputs": [
        {
          "output_type": "stream",
          "name": "stdout",
          "text": [
            "자연수 를입력하시오:3\n",
            "  1\n",
            " 12\n",
            "123\n"
          ]
        }
      ]
    },
    {
      "cell_type": "markdown",
      "metadata": {
        "id": "32zn1xRno-AK"
      },
      "source": [
        "문제 8"
      ]
    },
    {
      "cell_type": "code",
      "metadata": {
        "id": "p5FYT6uPwsRq",
        "colab": {
          "base_uri": "https://localhost:8080/"
        },
        "outputId": "392ad0a4-6323-451e-cdb0-e24329a61545"
      },
      "source": [
        "# 1 2 3\n",
        "  # 4 5\n",
        "  #   6\n",
        "\n",
        "x = int(input(\"자연수를 입력하시오:\"))\n",
        "y = 1\n",
        "\n",
        "for i in range (x): # x=3 , i=0,1,2\n",
        "  for j in range (i): \n",
        "    print(' ',end='')\n",
        "  for j in range (x-i):\n",
        "    print(y, end='')\n",
        "    y += 1\n",
        "  print('')"
      ],
      "execution_count": null,
      "outputs": [
        {
          "output_type": "stream",
          "name": "stdout",
          "text": [
            "자연수를 입력하시오:3\n",
            "123\n",
            " 45\n",
            "  6\n"
          ]
        }
      ]
    },
    {
      "cell_type": "markdown",
      "metadata": {
        "id": "g8fc68Bho-7E"
      },
      "source": [
        "문제 9"
      ]
    },
    {
      "cell_type": "code",
      "metadata": {
        "colab": {
          "base_uri": "https://localhost:8080/"
        },
        "id": "JiSiKZF8tlzy",
        "outputId": "f279c3e3-aa61-4628-85c1-e93b591ad642"
      },
      "source": [
        "x = int(input('자연수를 입력하시오:'))\n",
        "y = 1\n",
        "\n",
        "for i in range (x):\n",
        "  for j in range(x):\n",
        "    print(y, end='')\n",
        "    y = (y + 2) % 10\n",
        "  print('')"
      ],
      "execution_count": null,
      "outputs": [
        {
          "output_type": "stream",
          "name": "stdout",
          "text": [
            "자연수를 입력하시오:3\n",
            "135\n",
            "791\n",
            "357\n"
          ]
        }
      ]
    }
  ]
}